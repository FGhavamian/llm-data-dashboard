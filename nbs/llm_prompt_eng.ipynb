{
 "cells": [
  {
   "cell_type": "code",
   "execution_count": 1,
   "metadata": {},
   "outputs": [
    {
     "data": {
      "text/plain": [
       "True"
      ]
     },
     "execution_count": 1,
     "metadata": {},
     "output_type": "execute_result"
    }
   ],
   "source": [
    "import os\n",
    "\n",
    "from dotenv import load_dotenv\n",
    "\n",
    "load_dotenv()"
   ]
  },
  {
   "cell_type": "code",
   "execution_count": 2,
   "metadata": {},
   "outputs": [],
   "source": [
    "from typing import Literal\n",
    "\n",
    "from langchain_core.prompts import PromptTemplate\n",
    "from langchain_openai import ChatOpenAI\n",
    "from langchain_core.output_parsers import JsonOutputParser\n",
    "from langchain_core.pydantic_v1 import BaseModel, Field\n"
   ]
  },
  {
   "cell_type": "code",
   "execution_count": 3,
   "metadata": {},
   "outputs": [],
   "source": [
    "model = ChatOpenAI(model=\"gpt-4o\", api_key=os.getenv('openai-api-key'))"
   ]
  },
  {
   "cell_type": "code",
   "execution_count": 18,
   "metadata": {},
   "outputs": [],
   "source": [
    "template = \"\"\"You are a data scientist working for an e-commerce company. You have created a Tableau dashboard containing the following two graphs: \n",
    "1- a line plot of revenue for each day over the past 4 years \n",
    "2- a pie chart of cost broken down by different processes \n",
    "\n",
    "The following data is avaible: \n",
    "\n",
    "Sales (\n",
    "datetime, \n",
    "revenue\n",
    ")\n",
    "\n",
    "Costs (\n",
    "datetime,\n",
    "category, \n",
    "amount\n",
    ")\n",
    "\n",
    "Tax (\n",
    "datetime, \n",
    "amount, \n",
    "is_paid)\n",
    "\n",
    "Note that one can use Tableau's functionalities to modify the graph. The only thing you cannot change is the data source.\n",
    "\n",
    "A C-Level manager at this e-commerce company has the following questions: \n",
    "{question}\n",
    "\n",
    "{options}\n",
    "\n",
    "{format_instructions}\"\"\""
   ]
  },
  {
   "cell_type": "code",
   "execution_count": 5,
   "metadata": {},
   "outputs": [],
   "source": [
    "class FeasiblityCheck(BaseModel):\n",
    "    is_feasible: Literal[\"yes\", \"partially\", \"no\"] = Field(description=\"whether it is possible to answer the given question using the available graphs or data\")\n",
    "\n",
    "feasibility_parser = JsonOutputParser(pydantic_object=FeasiblityCheck)"
   ]
  },
  {
   "cell_type": "code",
   "execution_count": 6,
   "metadata": {},
   "outputs": [
    {
     "data": {
      "text/plain": [
       "PromptTemplate(input_variables=['options', 'question'], partial_variables={'format_instructions': 'The output should be formatted as a JSON instance that conforms to the JSON schema below.\\n\\nAs an example, for the schema {\"properties\": {\"foo\": {\"title\": \"Foo\", \"description\": \"a list of strings\", \"type\": \"array\", \"items\": {\"type\": \"string\"}}}, \"required\": [\"foo\"]}\\nthe object {\"foo\": [\"bar\", \"baz\"]} is a well-formatted instance of the schema. The object {\"properties\": {\"foo\": [\"bar\", \"baz\"]}} is not well-formatted.\\n\\nHere is the output schema:\\n```\\n{\"properties\": {\"is_feasible\": {\"title\": \"Is Feasible\", \"description\": \"whether it is possible to answer the given question using the available graphs or data\", \"enum\": [\"yes\", \"partially\", \"no\"], \"type\": \"string\"}}, \"required\": [\"is_feasible\"]}\\n```'}, template=\"You are a data scientist working for an e-commerce company. You have created a Tableau dashboard containing the following two graphs: \\n1- a line plot of revenue for each day over the past 4 years \\n2- a pie chart of cost broken down by different processes \\n\\nThe following data is avaible: \\n\\nSales (\\ndatetime, \\nrevenue\\n)\\n\\nCosts (\\ndatetime,\\ncategory, \\namount\\n)\\n\\nTax (\\ndatetime, \\namount, \\nis_paid)\\n\\nNote that one can use Tableau's functionalities to modify the graph. The only thing you cannot change is the data source.\\n\\nA C-Level manager at this e-commerce company has the following questions: \\n{question}\\n\\nYou have the following options to choose from:\\n{options}\\n\\n{format_instructions}\")"
      ]
     },
     "execution_count": 6,
     "metadata": {},
     "output_type": "execute_result"
    }
   ],
   "source": [
    "feasibility_prompt_template = PromptTemplate(\n",
    "    template=template, \n",
    "    input_variables=[\"question\", \"options\"], \n",
    "    partial_variables={\"format_instructions\": feasibility_parser.get_format_instructions()}\n",
    ")\n",
    "\n",
    "feasibility_prompt_template"
   ]
  },
  {
   "cell_type": "code",
   "execution_count": 7,
   "metadata": {},
   "outputs": [],
   "source": [
    "chain = feasibility_prompt_template | model | feasibility_parser"
   ]
  },
  {
   "cell_type": "code",
   "execution_count": 8,
   "metadata": {},
   "outputs": [
    {
     "data": {
      "text/plain": [
       "{'is_feasible': 'partially'}"
      ]
     },
     "execution_count": 8,
     "metadata": {},
     "output_type": "execute_result"
    }
   ],
   "source": [
    "question = \"How much tax we pain the last month?\"\n",
    "\n",
    "options = \"\"\"You have the following options to choose from:\n",
    "* It is feasible, we can use one of the graphs mentioned above to answer the question.  \n",
    "* It is partially feasible, given the data we can build a new graph that answers the question.\n",
    "* It is not feasible, given the data available it is not possible to answer this question\"\"\"\n",
    "\n",
    "chain.invoke({\"question\": question, \"options\": options})"
   ]
  },
  {
   "cell_type": "code",
   "execution_count": null,
   "metadata": {},
   "outputs": [],
   "source": []
  },
  {
   "cell_type": "code",
   "execution_count": 16,
   "metadata": {},
   "outputs": [],
   "source": [
    "class SQLQuery(BaseModel):\n",
    "    sql_query: str = Field(\n",
    "        description=\"A runnable sql query that takes the available data and generates the data required to answer the question\"\n",
    "    )\n",
    "\n",
    "parser = JsonOutputParser(pydantic_object=SQLQuery)\n",
    "\n",
    "prompt_template = PromptTemplate(\n",
    "    template=template,\n",
    "    input_variables=[\"question\"],\n",
    "    partial_variables={\n",
    "        \"format_instructions\": parser.get_format_instructions(),\n",
    "        \"options\": \"\",\n",
    "    },\n",
    ")\n",
    "\n",
    "chain = prompt_template | model | parser"
   ]
  },
  {
   "cell_type": "code",
   "execution_count": 19,
   "metadata": {},
   "outputs": [
    {
     "data": {
      "text/plain": [
       "{'sql_query': 'SELECT AVG(amount) AS average_tax_paid FROM Tax WHERE is_paid = TRUE AND datetime >= DATE_SUB(CURDATE(), INTERVAL 3 MONTH)'}"
      ]
     },
     "execution_count": 19,
     "metadata": {},
     "output_type": "execute_result"
    }
   ],
   "source": [
    "question = \"What is average amount of tax paid in the past 3 months?\"\n",
    "\n",
    "chain.invoke({\"question\": question})"
   ]
  },
  {
   "cell_type": "code",
   "execution_count": null,
   "metadata": {},
   "outputs": [],
   "source": []
  }
 ],
 "metadata": {
  "kernelspec": {
   "display_name": "env",
   "language": "python",
   "name": "python3"
  },
  "language_info": {
   "codemirror_mode": {
    "name": "ipython",
    "version": 3
   },
   "file_extension": ".py",
   "mimetype": "text/x-python",
   "name": "python",
   "nbconvert_exporter": "python",
   "pygments_lexer": "ipython3",
   "version": "3.12.4"
  }
 },
 "nbformat": 4,
 "nbformat_minor": 2
}
